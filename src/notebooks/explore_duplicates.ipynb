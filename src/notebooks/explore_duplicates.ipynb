{
 "cells": [
  {
   "cell_type": "markdown",
   "metadata": {},
   "source": [
    "## Exploring duplicate ids\n",
    "\n",
    "In this notebook we examine several facts about those folks who showed up multiple\n",
    "times in our surveys."
   ]
  },
  {
   "cell_type": "code",
   "execution_count": 1,
   "metadata": {},
   "outputs": [],
   "source": [
    "import matplotlib.pyplot as plt\n",
    "import numpy as np\n",
    "import pandas as pd"
   ]
  },
  {
   "cell_type": "code",
   "execution_count": 2,
   "metadata": {},
   "outputs": [],
   "source": [
    "df_first = pd.read_csv(\"data/deduplicated_data_first.csv\")\n",
    "df_last = pd.read_csv(\"data/deduplicated_data_last.csv\")"
   ]
  },
  {
   "cell_type": "code",
   "execution_count": 3,
   "metadata": {},
   "outputs": [],
   "source": [
    "# Some things to make sure I didn't screw anything up horribly\n",
    "assert len(df_first) == len(df_last)\n",
    "assert (df_first[\"user_id\"].value_counts().value_counts() == df_last[\"user_id\"].value_counts().value_counts()).all()\n",
    "assert set(df_first[\"user_id\"].dropna()) == set(df_last[\"user_id\"].dropna())"
   ]
  },
  {
   "cell_type": "code",
   "execution_count": 5,
   "metadata": {},
   "outputs": [],
   "source": [
    "# For those people who were in both surveys, here are some columns they really _should_\n",
    "# be identical on?\n",
    "\n",
    "comparison_cols = [\n",
    " 'birthyr',\n",
    " 'gender',\n",
    " 'race',\n",
    " 'educ',\n",
    " 'marstat',\n",
    " 'faminc_new',\n",
    " 'pid3',\n",
    " 'pid7',\n",
    " 'presvote16post',\n",
    " 'inputstate',\n",
    " 'inputzip',\n",
    " 'votereg',\n",
    " 'ideo5',\n",
    " 'newsint',\n",
    " 'religpew',\n",
    " 'pew_churatd',\n",
    " 'pew_bornagain',\n",
    " 'pew_religimp',\n",
    " 'pew_prayer',\n",
    "]\n",
    "\n",
    "q_comparison_cols = [\n",
    "    \"q60_1\",\n",
    "    \"q60_2\",\n",
    "    \"q60_3\",\n",
    "    \"q60_4\",\n",
    "    \"q1\"\n",
    "]"
   ]
  },
  {
   "cell_type": "code",
   "execution_count": 6,
   "metadata": {},
   "outputs": [
    {
     "data": {
      "text/html": [
       "<div>\n",
       "<style scoped>\n",
       "    .dataframe tbody tr th:only-of-type {\n",
       "        vertical-align: middle;\n",
       "    }\n",
       "\n",
       "    .dataframe tbody tr th {\n",
       "        vertical-align: top;\n",
       "    }\n",
       "\n",
       "    .dataframe thead th {\n",
       "        text-align: right;\n",
       "    }\n",
       "</style>\n",
       "<table border=\"1\" class=\"dataframe\">\n",
       "  <thead>\n",
       "    <tr style=\"text-align: right;\">\n",
       "      <th></th>\n",
       "      <th>count</th>\n",
       "      <th>freq</th>\n",
       "    </tr>\n",
       "  </thead>\n",
       "  <tbody>\n",
       "    <tr>\n",
       "      <th>birthyr</th>\n",
       "      <td>178</td>\n",
       "      <td>166</td>\n",
       "    </tr>\n",
       "    <tr>\n",
       "      <th>gender</th>\n",
       "      <td>178</td>\n",
       "      <td>175</td>\n",
       "    </tr>\n",
       "    <tr>\n",
       "      <th>race</th>\n",
       "      <td>178</td>\n",
       "      <td>172</td>\n",
       "    </tr>\n",
       "    <tr>\n",
       "      <th>educ</th>\n",
       "      <td>178</td>\n",
       "      <td>164</td>\n",
       "    </tr>\n",
       "    <tr>\n",
       "      <th>marstat</th>\n",
       "      <td>178</td>\n",
       "      <td>175</td>\n",
       "    </tr>\n",
       "    <tr>\n",
       "      <th>faminc_new</th>\n",
       "      <td>178</td>\n",
       "      <td>161</td>\n",
       "    </tr>\n",
       "    <tr>\n",
       "      <th>pid3</th>\n",
       "      <td>178</td>\n",
       "      <td>166</td>\n",
       "    </tr>\n",
       "    <tr>\n",
       "      <th>pid7</th>\n",
       "      <td>178</td>\n",
       "      <td>145</td>\n",
       "    </tr>\n",
       "    <tr>\n",
       "      <th>presvote16post</th>\n",
       "      <td>178</td>\n",
       "      <td>177</td>\n",
       "    </tr>\n",
       "    <tr>\n",
       "      <th>inputstate</th>\n",
       "      <td>178</td>\n",
       "      <td>178</td>\n",
       "    </tr>\n",
       "    <tr>\n",
       "      <th>inputzip</th>\n",
       "      <td>178</td>\n",
       "      <td>173</td>\n",
       "    </tr>\n",
       "    <tr>\n",
       "      <th>votereg</th>\n",
       "      <td>178</td>\n",
       "      <td>176</td>\n",
       "    </tr>\n",
       "    <tr>\n",
       "      <th>ideo5</th>\n",
       "      <td>178</td>\n",
       "      <td>151</td>\n",
       "    </tr>\n",
       "    <tr>\n",
       "      <th>newsint</th>\n",
       "      <td>178</td>\n",
       "      <td>137</td>\n",
       "    </tr>\n",
       "    <tr>\n",
       "      <th>religpew</th>\n",
       "      <td>178</td>\n",
       "      <td>177</td>\n",
       "    </tr>\n",
       "    <tr>\n",
       "      <th>pew_churatd</th>\n",
       "      <td>178</td>\n",
       "      <td>176</td>\n",
       "    </tr>\n",
       "    <tr>\n",
       "      <th>pew_bornagain</th>\n",
       "      <td>178</td>\n",
       "      <td>177</td>\n",
       "    </tr>\n",
       "    <tr>\n",
       "      <th>pew_religimp</th>\n",
       "      <td>178</td>\n",
       "      <td>177</td>\n",
       "    </tr>\n",
       "    <tr>\n",
       "      <th>pew_prayer</th>\n",
       "      <td>178</td>\n",
       "      <td>173</td>\n",
       "    </tr>\n",
       "    <tr>\n",
       "      <th>q60_1</th>\n",
       "      <td>178</td>\n",
       "      <td>117</td>\n",
       "    </tr>\n",
       "    <tr>\n",
       "      <th>q60_2</th>\n",
       "      <td>178</td>\n",
       "      <td>125</td>\n",
       "    </tr>\n",
       "    <tr>\n",
       "      <th>q60_3</th>\n",
       "      <td>178</td>\n",
       "      <td>118</td>\n",
       "    </tr>\n",
       "    <tr>\n",
       "      <th>q60_4</th>\n",
       "      <td>178</td>\n",
       "      <td>116</td>\n",
       "    </tr>\n",
       "    <tr>\n",
       "      <th>q1</th>\n",
       "      <td>178</td>\n",
       "      <td>100</td>\n",
       "    </tr>\n",
       "  </tbody>\n",
       "</table>\n",
       "</div>"
      ],
      "text/plain": [
       "               count freq\n",
       "birthyr          178  166\n",
       "gender           178  175\n",
       "race             178  172\n",
       "educ             178  164\n",
       "marstat          178  175\n",
       "faminc_new       178  161\n",
       "pid3             178  166\n",
       "pid7             178  145\n",
       "presvote16post   178  177\n",
       "inputstate       178  178\n",
       "inputzip         178  173\n",
       "votereg          178  176\n",
       "ideo5            178  151\n",
       "newsint          178  137\n",
       "religpew         178  177\n",
       "pew_churatd      178  176\n",
       "pew_bornagain    178  177\n",
       "pew_religimp     178  177\n",
       "pew_prayer       178  173\n",
       "q60_1            178  117\n",
       "q60_2            178  125\n",
       "q60_3            178  118\n",
       "q60_4            178  116\n",
       "q1               178  100"
      ]
     },
     "execution_count": 6,
     "metadata": {},
     "output_type": "execute_result"
    }
   ],
   "source": [
    "blah_first = df_first[comparison_cols + q_comparison_cols + [\"caseid\", \"user_id\"]].dropna(subset=[\"user_id\"])\n",
    "blah_last = df_last[comparison_cols + q_comparison_cols + [\"caseid\", \"user_id\"]].dropna(subset=[\"user_id\"])\n",
    "\n",
    "merged_df = blah_first.merge(blah_last, on=\"user_id\")\n",
    "merged_df = merged_df[merged_df[\"caseid_x\"] != merged_df[\"caseid_y\"]]\n",
    "\n",
    "new_df_dict = {}\n",
    "for col in comparison_cols + q_comparison_cols:\n",
    "    new_df_dict[col] = merged_df[f\"{col}_x\"] == merged_df[f\"{col}_y\"]\n",
    "\n",
    "new_df = pd.DataFrame(new_df_dict)\n",
    "new_df.describe().loc[[\"count\", \"freq\"]].T"
   ]
  },
  {
   "cell_type": "code",
   "execution_count": 7,
   "metadata": {},
   "outputs": [
    {
     "data": {
      "text/html": [
       "<div>\n",
       "<style scoped>\n",
       "    .dataframe tbody tr th:only-of-type {\n",
       "        vertical-align: middle;\n",
       "    }\n",
       "\n",
       "    .dataframe tbody tr th {\n",
       "        vertical-align: top;\n",
       "    }\n",
       "\n",
       "    .dataframe thead th {\n",
       "        text-align: right;\n",
       "    }\n",
       "</style>\n",
       "<table border=\"1\" class=\"dataframe\">\n",
       "  <thead>\n",
       "    <tr style=\"text-align: right;\">\n",
       "      <th></th>\n",
       "      <th>birthyr_x</th>\n",
       "      <th>birthyr_y</th>\n",
       "    </tr>\n",
       "  </thead>\n",
       "  <tbody>\n",
       "    <tr>\n",
       "      <th>17</th>\n",
       "      <td>1967.0</td>\n",
       "      <td>1963.0</td>\n",
       "    </tr>\n",
       "    <tr>\n",
       "      <th>21</th>\n",
       "      <td>1953.0</td>\n",
       "      <td>1954.0</td>\n",
       "    </tr>\n",
       "    <tr>\n",
       "      <th>27</th>\n",
       "      <td>1982.0</td>\n",
       "      <td>1984.0</td>\n",
       "    </tr>\n",
       "    <tr>\n",
       "      <th>49</th>\n",
       "      <td>1985.0</td>\n",
       "      <td>1965.0</td>\n",
       "    </tr>\n",
       "    <tr>\n",
       "      <th>73</th>\n",
       "      <td>1981.0</td>\n",
       "      <td>1980.0</td>\n",
       "    </tr>\n",
       "    <tr>\n",
       "      <th>102</th>\n",
       "      <td>1965.0</td>\n",
       "      <td>1969.0</td>\n",
       "    </tr>\n",
       "    <tr>\n",
       "      <th>104</th>\n",
       "      <td>1943.0</td>\n",
       "      <td>1945.0</td>\n",
       "    </tr>\n",
       "    <tr>\n",
       "      <th>110</th>\n",
       "      <td>1974.0</td>\n",
       "      <td>1975.0</td>\n",
       "    </tr>\n",
       "    <tr>\n",
       "      <th>111</th>\n",
       "      <td>1982.0</td>\n",
       "      <td>1981.0</td>\n",
       "    </tr>\n",
       "    <tr>\n",
       "      <th>131</th>\n",
       "      <td>1945.0</td>\n",
       "      <td>1994.0</td>\n",
       "    </tr>\n",
       "    <tr>\n",
       "      <th>135</th>\n",
       "      <td>1983.0</td>\n",
       "      <td>1984.0</td>\n",
       "    </tr>\n",
       "    <tr>\n",
       "      <th>144</th>\n",
       "      <td>1948.0</td>\n",
       "      <td>1947.0</td>\n",
       "    </tr>\n",
       "  </tbody>\n",
       "</table>\n",
       "</div>"
      ],
      "text/plain": [
       "     birthyr_x  birthyr_y\n",
       "17      1967.0     1963.0\n",
       "21      1953.0     1954.0\n",
       "27      1982.0     1984.0\n",
       "49      1985.0     1965.0\n",
       "73      1981.0     1980.0\n",
       "102     1965.0     1969.0\n",
       "104     1943.0     1945.0\n",
       "110     1974.0     1975.0\n",
       "111     1982.0     1981.0\n",
       "131     1945.0     1994.0\n",
       "135     1983.0     1984.0\n",
       "144     1948.0     1947.0"
      ]
     },
     "execution_count": 7,
     "metadata": {},
     "output_type": "execute_result"
    }
   ],
   "source": [
    "# So what's going on here? E.g., what's up with gender?\n",
    "col = \"birthyr\"\n",
    "merged_df.loc[merged_df[f\"{col}_x\"] != merged_df[f\"{col}_y\"], [f\"{col}_x\", f\"{col}_y\"]]"
   ]
  },
  {
   "cell_type": "code",
   "execution_count": 8,
   "metadata": {},
   "outputs": [
    {
     "data": {
      "text/html": [
       "<div>\n",
       "<style scoped>\n",
       "    .dataframe tbody tr th:only-of-type {\n",
       "        vertical-align: middle;\n",
       "    }\n",
       "\n",
       "    .dataframe tbody tr th {\n",
       "        vertical-align: top;\n",
       "    }\n",
       "\n",
       "    .dataframe thead th {\n",
       "        text-align: right;\n",
       "    }\n",
       "</style>\n",
       "<table border=\"1\" class=\"dataframe\">\n",
       "  <thead>\n",
       "    <tr style=\"text-align: right;\">\n",
       "      <th></th>\n",
       "      <th>gender_x</th>\n",
       "      <th>gender_y</th>\n",
       "    </tr>\n",
       "  </thead>\n",
       "  <tbody>\n",
       "    <tr>\n",
       "      <th>18</th>\n",
       "      <td>1.0</td>\n",
       "      <td>2.0</td>\n",
       "    </tr>\n",
       "    <tr>\n",
       "      <th>27</th>\n",
       "      <td>2.0</td>\n",
       "      <td>1.0</td>\n",
       "    </tr>\n",
       "    <tr>\n",
       "      <th>39</th>\n",
       "      <td>1.0</td>\n",
       "      <td>2.0</td>\n",
       "    </tr>\n",
       "  </tbody>\n",
       "</table>\n",
       "</div>"
      ],
      "text/plain": [
       "    gender_x  gender_y\n",
       "18       1.0       2.0\n",
       "27       2.0       1.0\n",
       "39       1.0       2.0"
      ]
     },
     "execution_count": 8,
     "metadata": {},
     "output_type": "execute_result"
    }
   ],
   "source": [
    "# So what's going on here? E.g., what's up with gender?\n",
    "col = \"gender\"\n",
    "merged_df.loc[merged_df[f\"{col}_x\"] != merged_df[f\"{col}_y\"], [f\"{col}_x\", f\"{col}_y\"]]"
   ]
  },
  {
   "cell_type": "code",
   "execution_count": 9,
   "metadata": {},
   "outputs": [
    {
     "data": {
      "text/html": [
       "<div>\n",
       "<style scoped>\n",
       "    .dataframe tbody tr th:only-of-type {\n",
       "        vertical-align: middle;\n",
       "    }\n",
       "\n",
       "    .dataframe tbody tr th {\n",
       "        vertical-align: top;\n",
       "    }\n",
       "\n",
       "    .dataframe thead th {\n",
       "        text-align: right;\n",
       "    }\n",
       "</style>\n",
       "<table border=\"1\" class=\"dataframe\">\n",
       "  <thead>\n",
       "    <tr style=\"text-align: right;\">\n",
       "      <th></th>\n",
       "      <th>race_x</th>\n",
       "      <th>race_y</th>\n",
       "    </tr>\n",
       "  </thead>\n",
       "  <tbody>\n",
       "    <tr>\n",
       "      <th>17</th>\n",
       "      <td>7.0</td>\n",
       "      <td>1.0</td>\n",
       "    </tr>\n",
       "    <tr>\n",
       "      <th>18</th>\n",
       "      <td>2.0</td>\n",
       "      <td>4.0</td>\n",
       "    </tr>\n",
       "    <tr>\n",
       "      <th>27</th>\n",
       "      <td>3.0</td>\n",
       "      <td>2.0</td>\n",
       "    </tr>\n",
       "    <tr>\n",
       "      <th>40</th>\n",
       "      <td>7.0</td>\n",
       "      <td>6.0</td>\n",
       "    </tr>\n",
       "    <tr>\n",
       "      <th>58</th>\n",
       "      <td>7.0</td>\n",
       "      <td>6.0</td>\n",
       "    </tr>\n",
       "    <tr>\n",
       "      <th>95</th>\n",
       "      <td>7.0</td>\n",
       "      <td>8.0</td>\n",
       "    </tr>\n",
       "  </tbody>\n",
       "</table>\n",
       "</div>"
      ],
      "text/plain": [
       "    race_x  race_y\n",
       "17     7.0     1.0\n",
       "18     2.0     4.0\n",
       "27     3.0     2.0\n",
       "40     7.0     6.0\n",
       "58     7.0     6.0\n",
       "95     7.0     8.0"
      ]
     },
     "execution_count": 9,
     "metadata": {},
     "output_type": "execute_result"
    }
   ],
   "source": [
    "# So what's going on here? E.g., what's up with race?\n",
    "col = \"race\"\n",
    "merged_df.loc[merged_df[f\"{col}_x\"] != merged_df[f\"{col}_y\"], [f\"{col}_x\", f\"{col}_y\"]]"
   ]
  },
  {
   "cell_type": "code",
   "execution_count": 10,
   "metadata": {},
   "outputs": [
    {
     "data": {
      "text/plain": [
       "<AxesSubplot:title={'center':'Change in pid7 among 33 people who changed'}>"
      ]
     },
     "execution_count": 10,
     "metadata": {},
     "output_type": "execute_result"
    },
    {
     "data": {
      "image/png": "[encoded data removed]",
      "text/plain": [
       "<Figure size 432x288 with 1 Axes>"
      ]
     },
     "metadata": {
      "needs_background": "light"
     },
     "output_type": "display_data"
    }
   ],
   "source": [
    "# So what's going on here? E.g., what's up with pid7?\n",
    "col = \"pid7\"\n",
    "dddf = merged_df.loc[merged_df[f\"{col}_x\"] != merged_df[f\"{col}_y\"], [f\"{col}_x\", f\"{col}_y\"]]\n",
    "s = (dddf[f\"{col}_x\"] - dddf[f\"{col}_y\"]).value_counts().sort_index()\n",
    "s.index = s.index.astype(int)\n",
    "s = s.reindex(np.arange(-6, 7, dtype=int))\n",
    "s.plot.bar(title=f\"Change in pid7 among {len(dddf)} people who changed\")"
   ]
  },
  {
   "cell_type": "code",
   "execution_count": 11,
   "metadata": {},
   "outputs": [
    {
     "data": {
      "text/plain": [
       "<AxesSubplot:title={'center':'Change in q1 among 78 people who changed'}>"
      ]
     },
     "execution_count": 11,
     "metadata": {},
     "output_type": "execute_result"
    },
    {
     "data": {
      "image/png": "[encoded data removed]",
      "text/plain": [
       "<Figure size 432x288 with 1 Axes>"
      ]
     },
     "metadata": {
      "needs_background": "light"
     },
     "output_type": "display_data"
    }
   ],
   "source": [
    "# So what's going on here? E.g., what's up with q1?\n",
    "col = \"q1\"\n",
    "dddf = merged_df.loc[merged_df[f\"{col}_x\"] != merged_df[f\"{col}_y\"], [f\"{col}_x\", f\"{col}_y\"]]\n",
    "s = (dddf[f\"{col}_x\"] - dddf[f\"{col}_y\"]).value_counts().sort_index()\n",
    "s.index = s.index.astype(int)\n",
    "s = s.reindex(np.arange(-6, 7, dtype=int))\n",
    "s.plot.bar(title=f\"Change in {col} among {len(dddf)} people who changed\")"
   ]
  },
  {
   "cell_type": "code",
   "execution_count": 12,
   "metadata": {},
   "outputs": [
    {
     "data": {
      "image/png": "[encoded data removed]",
      "text/plain": [
       "<Figure size 720x720 with 4 Axes>"
      ]
     },
     "metadata": {
      "needs_background": "light"
     },
     "output_type": "display_data"
    }
   ],
   "source": [
    "fig, axs = plt.subplots(2, 2, sharey=True, figsize=(10, 10))\n",
    "for endpt, ax in zip(range(1, 5), axs.flatten()):\n",
    "    # So what's going on here? E.g., what's up with q1?\n",
    "    col = f\"q60_{endpt}\"\n",
    "    dddf = merged_df.loc[merged_df[f\"{col}_x\"] != merged_df[f\"{col}_y\"], [f\"{col}_x\", f\"{col}_y\"]]\n",
    "    s = (dddf[f\"{col}_x\"] - dddf[f\"{col}_y\"]).value_counts().sort_index()\n",
    "    s.index = s.index.astype(int)\n",
    "    s = s.reindex(np.arange(-6, 7, dtype=int))\n",
    "    s.plot.bar(ax=ax, title=f\"Change in {col} among {len(dddf)} people who changed\")"
   ]
  },
  {
   "cell_type": "code",
   "execution_count": 13,
   "metadata": {},
   "outputs": [],
   "source": [
    "first_matches_df = pd.read_csv(\"data/calculated/outcome_analysis_study1_first.rda.csv\")\n",
    "last_matches_df = pd.read_csv(\"data/calculated/outcome_analysis_study1_last.rda.csv\")"
   ]
  },
  {
   "cell_type": "code",
   "execution_count": 14,
   "metadata": {},
   "outputs": [],
   "source": [
    "from typing import Union\n",
    "\n",
    "def cleanup_id_col(val: Union[str, int, float]) -> float:\n",
    "    if isinstance(val, (float, int)):\n",
    "        return val\n",
    "    if isinstance(val, str):\n",
    "        val = val.strip()\n",
    "        if val:\n",
    "            return int(val)\n",
    "        return np.nan\n",
    "\n",
    "\n",
    "id_df = pd.read_csv(\"data/BROW0016_OUTPUT_20220207.csv\")\n",
    "id_df = id_df[[\"caseid\", \"caseid_13\", \"caseid_14\", \"caseid_15\"]]\n",
    "for col in id_df:\n",
    "    id_df[col] = id_df[col].apply(cleanup_id_col).astype(\"Int64\")\n",
    "\n",
    "id_df[\"user_id\"] = np.arange(len(id_df), dtype=int)\n",
    "id_df = id_df.rename(\n",
    "    columns={\n",
    "        \"caseid\": \"caseid_16\",\n",
    "    },\n",
    ").melt(id_vars=[\"user_id\"], value_name=\"caseid\", var_name=\"which_survey\")\\\n",
    ".dropna(subset=[\"caseid\"])"
   ]
  },
  {
   "cell_type": "code",
   "execution_count": 15,
   "metadata": {},
   "outputs": [],
   "source": [
    "first_matches_df = first_matches_df.merge(id_df, how=\"left\", left_on=\"orig_id\", right_on=\"caseid\")\n",
    "first_matches_df[\"user_id\"] = first_matches_df[\"user_id\"].fillna(first_matches_df[\"orig_id\"])\n",
    "\n",
    "last_matches_df = last_matches_df.merge(id_df, how=\"left\", left_on=\"orig_id\", right_on=\"caseid\")\n",
    "last_matches_df[\"user_id\"] = last_matches_df[\"user_id\"].fillna(last_matches_df[\"orig_id\"])\n"
   ]
  },
  {
   "cell_type": "code",
   "execution_count": 16,
   "metadata": {},
   "outputs": [],
   "source": [
    "def probably_unique_id(col: pd.Series) -> str:\n",
    "    \"\"\"\n",
    "    As a way of checking if all the pairs are the same or not, just create a simple\n",
    "    hash of the underlying user ids. \n",
    "    \"\"\"\n",
    "    assert len(col) == 2\n",
    "    col = col.sort_values()\n",
    "    return f\"{col.iloc[0]}|{col.iloc[1]}\""
   ]
  },
  {
   "cell_type": "code",
   "execution_count": 17,
   "metadata": {},
   "outputs": [
    {
     "name": "stdout",
     "output_type": "stream",
     "text": [
      "288\n",
      "393\n"
     ]
    }
   ],
   "source": [
    "# How many matches are identical depending on whether we use the\n",
    "# first or the last match? About 75%\n",
    "print(\n",
    "    len(\n",
    "        set(first_matches_df.groupby(\"bm\")[\"user_id\"].agg(probably_unique_id)) & \n",
    "        set(last_matches_df.groupby(\"bm\")[\"user_id\"].agg(probably_unique_id))\n",
    "    )\n",
    ")\n",
    "\n",
    "print(min(first_matches_df[\"bm\"].nunique(), last_matches_df[\"bm\"].nunique()))"
   ]
  },
  {
   "cell_type": "code",
   "execution_count": null,
   "metadata": {},
   "outputs": [],
   "source": []
  },
  {
   "cell_type": "code",
   "execution_count": null,
   "metadata": {},
   "outputs": [],
   "source": []
  }
 ],
 "metadata": {
  "interpreter": {
   "hash": "5f4f2ee8d033b6667fc64603c39173908f7921418828199741f99d3fb72dcdb0"
  },
  "kernelspec": {
   "display_name": "Python 3.8.6 64-bit ('.venv': venv)",
   "language": "python",
   "name": "python3"
  },
  "language_info": {
   "codemirror_mode": {
    "name": "ipython",
    "version": 3
   },
   "file_extension": ".py",
   "mimetype": "text/x-python",
   "name": "python",
   "nbconvert_exporter": "python",
   "pygments_lexer": "ipython3",
   "version": "3.8.6"
  },
  "orig_nbformat": 4
 },
 "nbformat": 4,
 "nbformat_minor": 2
}
